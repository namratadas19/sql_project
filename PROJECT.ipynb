{
 "cells": [
  {
   "cell_type": "code",
   "execution_count": 1,
   "id": "b62bc1e5-5f39-4aa2-ba9f-de6f625c2b2e",
   "metadata": {},
   "outputs": [],
   "source": [
    "import pandas as pd\n",
    "import sqlite3"
   ]
  },
  {
   "cell_type": "code",
   "execution_count": 2,
   "id": "908ffc39-3d8f-4132-8ab7-0fd6dc028cc7",
   "metadata": {},
   "outputs": [],
   "source": [
    "df = pd.read_csv(\"C:\\\\Users\\\\Namrata\\\\Downloads\\\\archive\\\\StudentsPerformance.CSV\")"
   ]
  },
  {
   "cell_type": "code",
   "execution_count": 3,
   "id": "d59333cc-a5d2-4949-97e9-ab68f53b046d",
   "metadata": {},
   "outputs": [
    {
     "data": {
      "text/plain": [
       "1000"
      ]
     },
     "execution_count": 3,
     "metadata": {},
     "output_type": "execute_result"
    }
   ],
   "source": [
    "conn = sqlite3.connect(':memory:')\n",
    "df.to_sql('student_performance', conn, index=False, if_exists='replace')"
   ]
  },
  {
   "cell_type": "code",
   "execution_count": 4,
   "id": "81d6c04f-ac60-4421-b6a7-a864e8e3dbe0",
   "metadata": {},
   "outputs": [
    {
     "name": "stdout",
     "output_type": "stream",
     "text": [
      "Dataset preview:\n",
      "   gender race/ethnicity parental level of education         lunch  \\\n",
      "0  female        group B           bachelor's degree      standard   \n",
      "1  female        group C                some college      standard   \n",
      "2  female        group B             master's degree      standard   \n",
      "3    male        group A          associate's degree  free/reduced   \n",
      "4    male        group C                some college      standard   \n",
      "\n",
      "  test preparation course  math score  reading score  writing score  \n",
      "0                    none          72             72             74  \n",
      "1               completed          69             90             88  \n",
      "2                    none          90             95             93  \n",
      "3                    none          47             57             44  \n",
      "4                    none          76             78             75  \n"
     ]
    }
   ],
   "source": [
    "print(\"Dataset preview:\")\n",
    "print(df.head())"
   ]
  },
  {
   "cell_type": "code",
   "execution_count": 5,
   "id": "0fe36623-c110-4c00-b1fb-4193fe563395",
   "metadata": {},
   "outputs": [],
   "source": [
    "def run_query(query):\n",
    "    return pd.read_sql(query, conn)"
   ]
  },
  {
   "cell_type": "code",
   "execution_count": 6,
   "id": "b9272145-25fd-4e45-b412-1e46f1e4c2d3",
   "metadata": {},
   "outputs": [
    {
     "name": "stdout",
     "output_type": "stream",
     "text": [
      "Filtered by Gender (female):\n",
      "     gender race/ethnicity parental level of education         lunch  \\\n",
      "0    female        group B           bachelor's degree      standard   \n",
      "1    female        group C                some college      standard   \n",
      "2    female        group B             master's degree      standard   \n",
      "3    female        group B          associate's degree      standard   \n",
      "4    female        group B                some college      standard   \n",
      "..      ...            ...                         ...           ...   \n",
      "513  female        group D           bachelor's degree  free/reduced   \n",
      "514  female        group E             master's degree      standard   \n",
      "515  female        group C                 high school  free/reduced   \n",
      "516  female        group D                some college      standard   \n",
      "517  female        group D                some college  free/reduced   \n",
      "\n",
      "    test preparation course  math score  reading score  writing score  \n",
      "0                      none          72             72             74  \n",
      "1                 completed          69             90             88  \n",
      "2                      none          90             95             93  \n",
      "3                      none          71             83             78  \n",
      "4                 completed          88             95             92  \n",
      "..                      ...         ...            ...            ...  \n",
      "513                    none          62             72             74  \n",
      "514               completed          88             99             95  \n",
      "515               completed          59             71             65  \n",
      "516               completed          68             78             77  \n",
      "517                    none          77             86             86  \n",
      "\n",
      "[518 rows x 8 columns]\n"
     ]
    }
   ],
   "source": [
    "query_1 = \"SELECT * FROM student_performance WHERE gender = 'female'\"\n",
    "filtered_by_gender = run_query(query_1)\n",
    "print(\"Filtered by Gender (female):\")\n",
    "print(filtered_by_gender)"
   ]
  },
  {
   "cell_type": "code",
   "execution_count": 12,
   "id": "0e90e448-0eae-431d-aa0d-ecbd7ebc00e8",
   "metadata": {},
   "outputs": [
    {
     "name": "stdout",
     "output_type": "stream",
     "text": [
      "Aggregated Scores by Race/Ethnicity:\n",
      "  race/ethnicity  avg_math_score  avg_reading_score  avg_writing_score\n",
      "0        group A       61.629213          64.674157          62.674157\n",
      "1        group B       63.452632          67.352632          65.600000\n",
      "2        group C       64.463950          69.103448          67.827586\n",
      "3        group D       67.362595          70.030534          70.145038\n",
      "4        group E       73.821429          73.028571          71.407143\n"
     ]
    }
   ],
   "source": [
    "query_2 = \"\"\"\n",
    "SELECT `race/ethnicity`, AVG(`math score`) as avg_math_score, AVG(`reading score`) as avg_reading_score, AVG(`writing score`) as avg_writing_score\n",
    "FROM student_performance\n",
    "GROUP BY `race/ethnicity`\n",
    "\"\"\"\n",
    "aggregated_scores = run_query(query_2)\n",
    "print(\"Aggregated Scores by Race/Ethnicity:\")\n",
    "print(aggregated_scores)"
   ]
  },
  {
   "cell_type": "code",
   "execution_count": 13,
   "id": "91ddb4f2-f5ba-4471-b928-41256e2335cd",
   "metadata": {},
   "outputs": [
    {
     "name": "stdout",
     "output_type": "stream",
     "text": [
      "Count by Parental Level of Education:\n",
      "  parental level of education  student_count\n",
      "0          associate's degree            222\n",
      "1           bachelor's degree            118\n",
      "2                 high school            196\n",
      "3             master's degree             59\n",
      "4                some college            226\n",
      "5            some high school            179\n"
     ]
    }
   ],
   "source": [
    "query_3 = \"\"\"\n",
    "SELECT `parental level of education`, COUNT(*) as student_count\n",
    "FROM student_performance\n",
    "GROUP BY `parental level of education`\n",
    "\"\"\"\n",
    "count_by_parent_education = run_query(query_3)\n",
    "print(\"Count by Parental Level of Education:\")\n",
    "print(count_by_parent_education)"
   ]
  },
  {
   "cell_type": "code",
   "execution_count": 15,
   "id": "de3f2232-b846-4233-8b65-70b506e48f75",
   "metadata": {},
   "outputs": [
    {
     "name": "stdout",
     "output_type": "stream",
     "text": [
      "Compare Scores Between Students with Standard and Free/Reduced Lunch:\n",
      "          lunch  avg_math_score  avg_reading_score  avg_writing_score\n",
      "0  free/reduced       58.921127          64.653521          63.022535\n",
      "1      standard       70.034109          71.654264          70.823256\n"
     ]
    }
   ],
   "source": [
    "query_4 = \"\"\"\n",
    "SELECT lunch, AVG(`math score`) as avg_math_score, AVG(`reading score`) as avg_reading_score, AVG(`writing score`) as avg_writing_score\n",
    "FROM student_performance\n",
    "GROUP BY lunch\n",
    "\"\"\"\n",
    "compare_lunch_scores = run_query(query_4)\n",
    "print(\"Compare Scores Between Students with Standard and Free/Reduced Lunch:\")\n",
    "print(compare_lunch_scores)"
   ]
  },
  {
   "cell_type": "code",
   "execution_count": 16,
   "id": "a1c91c95-4b58-4219-931b-baa7b069c6e5",
   "metadata": {},
   "outputs": [
    {
     "name": "stdout",
     "output_type": "stream",
     "text": [
      "Top Performers (Top 10% by Average Score):\n",
      "    gender race/ethnicity parental level of education         lunch  \\\n",
      "0   female        group E           bachelor's degree      standard   \n",
      "1     male        group E           bachelor's degree      standard   \n",
      "2   female        group E          associate's degree      standard   \n",
      "3   female        group E           bachelor's degree      standard   \n",
      "4   female        group D            some high school      standard   \n",
      "..     ...            ...                         ...           ...   \n",
      "95    male        group D            some high school      standard   \n",
      "96  female        group C           bachelor's degree      standard   \n",
      "97    male        group E             master's degree      standard   \n",
      "98  female        group C                some college  free/reduced   \n",
      "99  female        group C          associate's degree      standard   \n",
      "\n",
      "   test preparation course  math score  reading score  writing score  \\\n",
      "0                     none         100            100            100   \n",
      "1                completed         100            100            100   \n",
      "2                     none         100            100            100   \n",
      "3                completed          99            100            100   \n",
      "4                completed          97            100            100   \n",
      "..                     ...         ...            ...            ...   \n",
      "95               completed          89             88             82   \n",
      "96                    none          81             88             90   \n",
      "97                    none          90             85             84   \n",
      "98                    none          77             90             91   \n",
      "99               completed          83             85             90   \n",
      "\n",
      "    average_score  \n",
      "0      100.000000  \n",
      "1      100.000000  \n",
      "2      100.000000  \n",
      "3       99.666667  \n",
      "4       99.000000  \n",
      "..            ...  \n",
      "95      86.333333  \n",
      "96      86.333333  \n",
      "97      86.333333  \n",
      "98      86.000000  \n",
      "99      86.000000  \n",
      "\n",
      "[100 rows x 9 columns]\n"
     ]
    }
   ],
   "source": [
    "query_5 = \"\"\"\n",
    "SELECT *, (`math score` + `reading score` + `writing score`)/3.0 as average_score\n",
    "FROM student_performance\n",
    "ORDER BY average_score DESC\n",
    "LIMIT (SELECT COUNT(*) FROM student_performance) * 0.10\n",
    "\"\"\"\n",
    "top_performers = run_query(query_5)\n",
    "print(\"Top Performers (Top 10% by Average Score):\")\n",
    "print(top_performers)"
   ]
  },
  {
   "cell_type": "code",
   "execution_count": 17,
   "id": "42c0e5f7-e9a2-4cdb-98fe-fa97f0b0de8c",
   "metadata": {},
   "outputs": [],
   "source": [
    "conn.close()"
   ]
  },
  {
   "cell_type": "code",
   "execution_count": null,
   "id": "9330fb5d-aabc-4bcc-8af9-8e3242a44c8e",
   "metadata": {},
   "outputs": [],
   "source": []
  }
 ],
 "metadata": {
  "kernelspec": {
   "display_name": "Python 3 (ipykernel)",
   "language": "python",
   "name": "python3"
  },
  "language_info": {
   "codemirror_mode": {
    "name": "ipython",
    "version": 3
   },
   "file_extension": ".py",
   "mimetype": "text/x-python",
   "name": "python",
   "nbconvert_exporter": "python",
   "pygments_lexer": "ipython3",
   "version": "3.10.11"
  }
 },
 "nbformat": 4,
 "nbformat_minor": 5
}
